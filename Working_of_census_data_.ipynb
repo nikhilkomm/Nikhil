{
  "cells": [
    {
      "cell_type": "markdown",
      "source": [
        "The Importing the module Numpy "
      ],
      "metadata": {
        "id": "HEaPt4v8sFET"
      }
    },
    {
      "cell_type": "code",
      "execution_count": 1,
      "metadata": {
        "id": "OKWwrhbpbq5w"
      },
      "outputs": [],
      "source": [
        "import numpy as np"
      ]
    },
    {
      "cell_type": "markdown",
      "source": [
        "assigning the Senses of Census data set to the data_file.\n",
        "From this step onwards to access the dataset we should use data_file."
      ],
      "metadata": {
        "id": "qChN4JCGsD-m"
      }
    },
    {
      "cell_type": "code",
      "execution_count": 2,
      "metadata": {
        "id": "fE0N688sdNs-"
      },
      "outputs": [],
      "source": [
        "data_file = '/content/makeSenseOfCensus.csv'"
      ]
    },
    {
      "cell_type": "markdown",
      "source": [
        "Converting the dataSet in to array to perform the operations.\n",
        "providing the name Data to the array.\n"
      ],
      "metadata": {
        "id": "vJV6Xs8cs3Sh"
      }
    },
    {
      "cell_type": "code",
      "execution_count": 3,
      "metadata": {
        "colab": {
          "base_uri": "https://localhost:8080/"
        },
        "id": "NYprubmedQyc",
        "outputId": "2ab4f091-1a4c-4d29-ecd9-8de0b1e82ad0"
      },
      "outputs": [
        {
          "output_type": "execute_result",
          "data": {
            "text/plain": [
              "array([[39., 13.,  4., ...,  0., 40.,  0.],\n",
              "       [50., 13.,  4., ...,  0., 13.,  0.],\n",
              "       [38.,  9.,  4., ...,  0., 40.,  0.],\n",
              "       ...,\n",
              "       [48., 13.,  4., ...,  0., 58.,  1.],\n",
              "       [40., 10.,  4., ...,  0., 40.,  0.],\n",
              "       [39., 13.,  4., ...,  0., 50.,  1.]])"
            ]
          },
          "metadata": {},
          "execution_count": 3
        }
      ],
      "source": [
        "data = np.genfromtxt(data_file, delimiter=',',skip_header = 1)\n",
        "data"
      ]
    },
    {
      "cell_type": "markdown",
      "source": [
        "adding the new row values to the array which is new_record.\n",
        "\n",
        "after adding the new record the data is assigned to df\n",
        "\n"
      ],
      "metadata": {
        "id": "D9f2yd2Atwd_"
      }
    },
    {
      "cell_type": "code",
      "source": [
        "new_record=[[50, 9, 4, 1, 0, 0, 40, 0]]\n",
        "new_record\n",
        "df = np.concatenate((data, new_record))\n",
        "print(df)"
      ],
      "metadata": {
        "colab": {
          "base_uri": "https://localhost:8080/"
        },
        "id": "AlQ3B0vVu3BQ",
        "outputId": "ec6fd79c-e265-4263-e4f6-8350c5bc9cf3"
      },
      "execution_count": 4,
      "outputs": [
        {
          "output_type": "stream",
          "name": "stdout",
          "text": [
            "[[39. 13.  4. ...  0. 40.  0.]\n",
            " [50. 13.  4. ...  0. 13.  0.]\n",
            " [38.  9.  4. ...  0. 40.  0.]\n",
            " ...\n",
            " [40. 10.  4. ...  0. 40.  0.]\n",
            " [39. 13.  4. ...  0. 50.  1.]\n",
            " [50.  9.  4. ...  0. 40.  0.]]\n"
          ]
        }
      ]
    },
    {
      "cell_type": "markdown",
      "source": [
        "- Create a new array called 'age' by taking only age column(age is the column with index 0) of 'census' array.\n",
        "- printing tthe shape of the age data.\n",
        "- printing the size of the age data.\n"
      ],
      "metadata": {
        "id": "13U9iCj1vto1"
      }
    },
    {
      "cell_type": "code",
      "source": [
        "from numpy.core.fromnumeric import shape\n",
        "age = df[:,0]\n",
        "print(age)\n",
        "print(age.shape)\n",
        "print(age.size)"
      ],
      "metadata": {
        "colab": {
          "base_uri": "https://localhost:8080/"
        },
        "id": "ARzDcJymv8Im",
        "outputId": "b68b97e3-16ea-45d6-f78a-666db4f3723a"
      },
      "execution_count": 10,
      "outputs": [
        {
          "output_type": "stream",
          "name": "stdout",
          "text": [
            "[39. 50. 38. ... 40. 39. 50.]\n",
            "(1001,)\n",
            "1001\n"
          ]
        }
      ]
    },
    {
      "cell_type": "markdown",
      "source": [
        "# Check if it's a young country or old country\n",
        "# Method - 1 "
      ],
      "metadata": {
        "id": "q2miVGSJyj-s"
      }
    },
    {
      "cell_type": "markdown",
      "source": [
        "- Finding the max age and store it in a variable called 'max_age'.\n",
        "\n",
        "- Printing the maximum age in the age data."
      ],
      "metadata": {
        "id": "N1-2UDrmwANr"
      }
    },
    {
      "cell_type": "code",
      "source": [
        "max_age = age.max()\n",
        "print(max_age)"
      ],
      "metadata": {
        "colab": {
          "base_uri": "https://localhost:8080/"
        },
        "id": "eBVkxgk5wy37",
        "outputId": "83394a85-e6a5-4522-dccf-857b914db351"
      },
      "execution_count": 11,
      "outputs": [
        {
          "output_type": "stream",
          "name": "stdout",
          "text": [
            "90.0\n"
          ]
        }
      ]
    },
    {
      "cell_type": "markdown",
      "source": [
        "- Finding the min age and store it in a variable called 'min_age'.\n",
        "\n",
        "- Printing the minimum age in the age data."
      ],
      "metadata": {
        "id": "D-riuAE_xFKt"
      }
    },
    {
      "cell_type": "code",
      "source": [
        "min_age=age.min()\n",
        "print(min_age)"
      ],
      "metadata": {
        "colab": {
          "base_uri": "https://localhost:8080/"
        },
        "id": "4IZf72dRxDnl",
        "outputId": "ae69bd6b-80f9-4e66-f670-8dda70a1af01"
      },
      "execution_count": 13,
      "outputs": [
        {
          "output_type": "stream",
          "name": "stdout",
          "text": [
            "17.0\n"
          ]
        }
      ]
    },
    {
      "cell_type": "markdown",
      "source": [
        "- Finding the mean of the age  age and store it in a variable called 'mean_age'.\n",
        "\n",
        "- Printing the mean value in the age data."
      ],
      "metadata": {
        "id": "ff3li56Mxgve"
      }
    },
    {
      "cell_type": "code",
      "source": [
        "mean_age=age.mean()\n",
        "print(mean_age)"
      ],
      "metadata": {
        "colab": {
          "base_uri": "https://localhost:8080/"
        },
        "id": "2ohM4SU4xs0I",
        "outputId": "10c7a440-f2f4-4907-d1af-4924e9883fb6"
      },
      "execution_count": 15,
      "outputs": [
        {
          "output_type": "stream",
          "name": "stdout",
          "text": [
            "38.06293706293706\n"
          ]
        }
      ]
    },
    {
      "cell_type": "markdown",
      "source": [
        "- Finding the standard deviaton of the age and store it in a variable called 'sd_age'.\n",
        "\n",
        "- Printing the standard deviation of the age in the age data."
      ],
      "metadata": {
        "id": "wWMDvFTfx1wd"
      }
    },
    {
      "cell_type": "code",
      "source": [
        "sd_age = np.std(age)\n",
        "print(sd_age)"
      ],
      "metadata": {
        "colab": {
          "base_uri": "https://localhost:8080/"
        },
        "id": "SjASD3EQyEbS",
        "outputId": "2c93877e-61e3-4270-8ac7-30eba13176e0"
      },
      "execution_count": 16,
      "outputs": [
        {
          "output_type": "stream",
          "name": "stdout",
          "text": [
            "13.341478176165857\n"
          ]
        }
      ]
    },
    {
      "cell_type": "markdown",
      "source": [
        "Fom the mean of the data we can say that the country is young.\n"
      ],
      "metadata": {
        "id": "i581t48ly9FX"
      }
    },
    {
      "cell_type": "markdown",
      "metadata": {
        "id": "Un-FZQIVhgjf"
      },
      "source": [
        "# Method-2 for checking the country is young.\n",
        "- using array indexing.\n"
      ]
    },
    {
      "cell_type": "markdown",
      "source": [
        "Cheking the data for the age between the 1 to 19 and assigning the data to Children by using the method called array indexing.\n"
      ],
      "metadata": {
        "id": "dq5BqTGS36GQ"
      }
    },
    {
      "cell_type": "code",
      "source": [
        "children=age[[age > 1] and [age<19]]\n",
        "print(children)\n",
        "print(\"Number of childerns in the country:\" ,children.size)"
      ],
      "metadata": {
        "colab": {
          "base_uri": "https://localhost:8080/"
        },
        "id": "p7Csyv5czqGq",
        "outputId": "492e4326-1bd7-4608-b240-2b76fc8e643d"
      },
      "execution_count": 26,
      "outputs": [
        {
          "output_type": "stream",
          "name": "stdout",
          "text": [
            "[18. 18. 18. 17. 18. 18. 18. 17. 18. 17. 17. 17. 17. 17. 17. 17. 17. 17.\n",
            " 18. 18. 17. 17. 17. 17. 18. 18. 17. 18. 18. 17. 17. 17. 18. 17. 18. 18.]\n",
            "Number of childerns in the country: 36\n"
          ]
        },
        {
          "output_type": "stream",
          "name": "stderr",
          "text": [
            "<ipython-input-26-f771d2857737>:1: FutureWarning: Using a non-tuple sequence for multidimensional indexing is deprecated; use `arr[tuple(seq)]` instead of `arr[seq]`. In the future this will be interpreted as an array index, `arr[np.array(seq)]`, which will result either in an error or a different result.\n",
            "  children=age[[age > 1] and [age<19]]\n"
          ]
        }
      ]
    },
    {
      "cell_type": "markdown",
      "source": [
        "Cheking the data for the age between the 20 to 59 and assigning the data to young by using the method called array indexing"
      ],
      "metadata": {
        "id": "mKyX-cvB4cJp"
      }
    },
    {
      "cell_type": "code",
      "source": [
        "young=age[[age > 20] and [age < 59]]\n",
        "#print(young)\n",
        "print(\"Number of young in the country:\" , young.size)"
      ],
      "metadata": {
        "colab": {
          "base_uri": "https://localhost:8080/"
        },
        "id": "Xn2DS-s54baZ",
        "outputId": "b0ea71cd-fb4d-48e8-b8cf-840d7313c226"
      },
      "execution_count": 30,
      "outputs": [
        {
          "output_type": "stream",
          "name": "stdout",
          "text": [
            "Number of young in the country: 918\n"
          ]
        },
        {
          "output_type": "stream",
          "name": "stderr",
          "text": [
            "<ipython-input-30-00a0b270756c>:1: FutureWarning: Using a non-tuple sequence for multidimensional indexing is deprecated; use `arr[tuple(seq)]` instead of `arr[seq]`. In the future this will be interpreted as an array index, `arr[np.array(seq)]`, which will result either in an error or a different result.\n",
            "  young=age[[age > 20] and [age < 59]]\n"
          ]
        }
      ]
    },
    {
      "cell_type": "markdown",
      "source": [
        "Cheking the data for the age Greater than 60  and assigning the data to senior_citizen by using the method called array indexing"
      ],
      "metadata": {
        "id": "BOumt5hW5C-p"
      }
    },
    {
      "cell_type": "code",
      "source": [
        "senior_citizen = age[age > 60]\n",
        "print(senior_citizen)\n",
        "print(\"Number of senior_citizen in the country:\" , senior_citizen.size)"
      ],
      "metadata": {
        "colab": {
          "base_uri": "https://localhost:8080/"
        },
        "id": "viRwlQMV5Nb1",
        "outputId": "8c808f46-c8f5-40ee-bbc5-90d35cd5dd43"
      },
      "execution_count": 31,
      "outputs": [
        {
          "output_type": "stream",
          "name": "stdout",
          "text": [
            "[79. 67. 76. 61. 70. 64. 71. 68. 66. 64. 90. 66. 75. 65. 64. 61. 65. 77.\n",
            " 62. 76. 63. 66. 67. 65. 62. 63. 80. 67. 63. 72. 62. 74. 67. 72. 69. 65.\n",
            " 65. 71. 70. 66. 65. 61. 61. 68. 64. 64. 62. 73. 72. 63. 62. 61. 71. 63.\n",
            " 63. 67. 81. 64. 67. 78. 63.]\n",
            "Number of senior_citizen in the country: 61\n"
          ]
        }
      ]
    },
    {
      "cell_type": "markdown",
      "source": [
        "From the data we can say that the young value is greater than the senior_citizen. so that finally we can say that the country is young Country."
      ],
      "metadata": {
        "id": "0ZweoyzS5jPZ"
      }
    },
    {
      "cell_type": "markdown",
      "source": [
        "# Method-3 for checking country is young.\n",
        "- using looping technique."
      ],
      "metadata": {
        "id": "75adPWt956qk"
      }
    },
    {
      "cell_type": "code",
      "source": [
        "child=0\n",
        "young=0\n",
        "seniorcitizen=0\n",
        "for i in range(len(age)):\n",
        "  if((age[i]>1 and age[i]<19)):\n",
        "    child+=1\n",
        "  elif((age[i]>19 and age[i]<59)):\n",
        "    young+=1\n",
        "  elif(age[i]>60):\n",
        "    seniorcitizen+=1\n",
        "print(child)\n",
        "print(young)\n",
        "print(seniorcitizen)"
      ],
      "metadata": {
        "colab": {
          "base_uri": "https://localhost:8080/"
        },
        "id": "ASYsOY666Epo",
        "outputId": "8cb037ed-c898-4a70-bc6e-09cad5994e77"
      },
      "execution_count": 42,
      "outputs": [
        {
          "output_type": "stream",
          "name": "stdout",
          "text": [
            "36\n",
            "861\n",
            "61\n"
          ]
        }
      ]
    },
    {
      "cell_type": "markdown",
      "source": [
        "from the count of the young and child we can clearly say that the country is young country.\n"
      ],
      "metadata": {
        "id": "Zr9RnlRF8Gmt"
      }
    },
    {
      "cell_type": "markdown",
      "source": [
        "# Let's check the country's race distribution to identify the minorities\n"
      ],
      "metadata": {
        "id": "C4dta0TnANfj"
      }
    },
    {
      "cell_type": "markdown",
      "source": [
        "In order to check the race distributin of the race we need to work on the index 2"
      ],
      "metadata": {
        "id": "DRgPGmOcDrnu"
      }
    },
    {
      "cell_type": "code",
      "source": [
        "race = df[:,2]\n",
        "print(race)"
      ],
      "metadata": {
        "colab": {
          "base_uri": "https://localhost:8080/"
        },
        "id": "iBykHP0mBe_8",
        "outputId": "00d46573-f473-4639-eb64-81aa5ace2104"
      },
      "execution_count": 6,
      "outputs": [
        {
          "output_type": "stream",
          "name": "stdout",
          "text": [
            "[4. 4. 4. ... 4. 4. 4.]\n"
          ]
        }
      ]
    },
    {
      "cell_type": "markdown",
      "source": [
        "identifying the different race form  the data"
      ],
      "metadata": {
        "id": "FJm4UWYGBoeY"
      }
    },
    {
      "cell_type": "code",
      "source": [
        "race_0 = race[race == 0]\n",
        "race_1 = race[race == 1]\n",
        "race_2 = race[race == 2]\n",
        "race_3 = race[race == 3]\n",
        "race_4 = race[race == 4]"
      ],
      "metadata": {
        "id": "qC2AnfXKBmUs"
      },
      "execution_count": 7,
      "outputs": []
    },
    {
      "cell_type": "markdown",
      "source": [
        "Finding the length of the each race value. so that we can identify the majority and minarity in the data"
      ],
      "metadata": {
        "id": "fVm2iMOZB01i"
      }
    },
    {
      "cell_type": "code",
      "source": [
        "len_0 = len(race_0)\n",
        "print(len_0)\n",
        "len_1 = len(race_1)\n",
        "print(len_1)\n",
        "len_2 = len(race_2)\n",
        "print(len_2)\n",
        "len_3 = len(race_3)\n",
        "print(len_3)\n",
        "len_4 = len(race_4)\n",
        "print(len_4)"
      ],
      "metadata": {
        "colab": {
          "base_uri": "https://localhost:8080/"
        },
        "id": "BjL9NSe3Bz5C",
        "outputId": "b1aafc33-7484-4298-e2a1-a6acceb4cd73"
      },
      "execution_count": 8,
      "outputs": [
        {
          "output_type": "stream",
          "name": "stdout",
          "text": [
            "10\n",
            "27\n",
            "110\n",
            "6\n",
            "848\n"
          ]
        }
      ]
    },
    {
      "cell_type": "markdown",
      "source": [
        "# As per govt. records citizens above 60 should not work more than 25 hours a week. Let us check if the policy is in place"
      ],
      "metadata": {
        "id": "F_rt7hcMDfTa"
      }
    },
    {
      "cell_type": "markdown",
      "source": [
        "defining the age with greater that 60 and assigning the value as senior_citizeen"
      ],
      "metadata": {
        "id": "flHhRHVYDvL1"
      }
    },
    {
      "cell_type": "code",
      "source": [
        "age=df[:,0]\n",
        "print(age)\n",
        "print(len(age))\n",
        "senior_citizen = age[age > 60]\n",
        "print(senior_citizen)\n",
        "print(len(senior_citizen))"
      ],
      "metadata": {
        "colab": {
          "base_uri": "https://localhost:8080/"
        },
        "id": "deLUgjCnzpCA",
        "outputId": "ab589715-2dfa-457d-be9d-666ea57e408b"
      },
      "execution_count": 10,
      "outputs": [
        {
          "output_type": "stream",
          "name": "stdout",
          "text": [
            "[39. 50. 38. ... 40. 39. 50.]\n",
            "1001\n",
            "[79. 67. 76. 61. 70. 64. 71. 68. 66. 64. 90. 66. 75. 65. 64. 61. 65. 77.\n",
            " 62. 76. 63. 66. 67. 65. 62. 63. 80. 67. 63. 72. 62. 74. 67. 72. 69. 65.\n",
            " 65. 71. 70. 66. 65. 61. 61. 68. 64. 64. 62. 73. 72. 63. 62. 61. 71. 63.\n",
            " 63. 67. 81. 64. 67. 78. 63.]\n",
            "61\n"
          ]
        }
      ]
    },
    {
      "cell_type": "markdown",
      "source": [
        "getting the data of workinghours for the cences data which is with index value 6"
      ],
      "metadata": {
        "id": "uxLe68IiEJLf"
      }
    },
    {
      "cell_type": "code",
      "execution_count": 11,
      "metadata": {
        "colab": {
          "base_uri": "https://localhost:8080/"
        },
        "id": "kGm1nsvJgWUm",
        "outputId": "20ce0f31-de73-4343-a4f6-655546e1d3db"
      },
      "outputs": [
        {
          "output_type": "stream",
          "name": "stdout",
          "text": [
            "[40. 13. 40. ... 40. 50. 40.]\n",
            "1001\n"
          ]
        }
      ],
      "source": [
        "workinghours=df[:,6]\n",
        "print(workinghours)\n",
        "print(len(workinghours))\n"
      ]
    },
    {
      "cell_type": "markdown",
      "source": [
        "Checking number of people are satisfing the governament policy."
      ],
      "metadata": {
        "id": "mCjHMV5TENA-"
      }
    },
    {
      "cell_type": "code",
      "execution_count": 12,
      "metadata": {
        "colab": {
          "base_uri": "https://localhost:8080/"
        },
        "id": "oDvXkuIphNsu",
        "outputId": "e1bddcf6-d20a-44c6-a8ce-ee22ab640e55"
      },
      "outputs": [
        {
          "output_type": "stream",
          "name": "stdout",
          "text": [
            "<class 'list'>\n",
            "policy is vilated by : 37 menbers\n",
            "[40.0, 40.0, 40.0, 40.0, 40.0, 40.0, 50.0, 40.0, 40.0, 40.0, 40.0, 45.0, 55.0, 40.0, 40.0, 40.0, 35.0, 40.0, 48.0, 40.0, 40.0, 30.0, 59.0, 50.0, 40.0, 40.0, 45.0, 40.0, 40.0, 48.0, 40.0, 40.0, 55.0, 40.0, 30.0, 40.0, 40.0]\n",
            "[76.0, 61.0, 70.0, 64.0, 64.0, 90.0, 66.0, 65.0, 64.0, 61.0, 77.0, 63.0, 66.0, 65.0, 62.0, 63.0, 63.0, 62.0, 67.0, 72.0, 69.0, 65.0, 65.0, 61.0, 61.0, 64.0, 64.0, 62.0, 73.0, 62.0, 61.0, 71.0, 63.0, 67.0, 81.0, 67.0, 78.0]\n",
            "37\n"
          ]
        }
      ],
      "source": [
        "policy=0\n",
        "working_hours=[]\n",
        "age_ex=[]\n",
        "print(type(working_hours))\n",
        "for i in range(len(age)):\n",
        "  if (age[i]>60 and workinghours[i]>25):\n",
        "    policy+=1\n",
        "    working_hours.append(workinghours[i])\n",
        "    age_ex.append(age[i])\n",
        "print(\"policy is vilated by :\",policy,\"menbers\")\n",
        "print(working_hours)\n",
        "print(age_ex)\n",
        "print(len(age_ex))"
      ]
    },
    {
      "cell_type": "markdown",
      "source": [
        "# Method 2 : As per govt. records citizens above 60 should not work more than 25 hours a week. Let us check if the policy is in place"
      ],
      "metadata": {
        "id": "ZsHjOMC9INtc"
      }
    },
    {
      "cell_type": "code",
      "source": [
        "senior_citizen = age[age > 60]\n",
        "print(senior_citizen)\n",
        "working_hours = df[:,6]\n",
        "print(working_hours)\n",
        "senior_citizen_len = len(senior_citizen)\n",
        "print(senior_citizen_len)\n",
        "avg_working_hours = working_hours_sum / senior_citizen_len\n",
        "print(avg_working_hours)"
      ],
      "metadata": {
        "colab": {
          "base_uri": "https://localhost:8080/"
        },
        "id": "AvPmIdVDIYxb",
        "outputId": "415039f3-b109-4708-b8de-62d5c21b2abb"
      },
      "execution_count": 26,
      "outputs": [
        {
          "output_type": "stream",
          "name": "stdout",
          "text": [
            "[79. 67. 76. 61. 70. 64. 71. 68. 66. 64. 90. 66. 75. 65. 64. 61. 65. 77.\n",
            " 62. 76. 63. 66. 67. 65. 62. 63. 80. 67. 63. 72. 62. 74. 67. 72. 69. 65.\n",
            " 65. 71. 70. 66. 65. 61. 61. 68. 64. 64. 62. 73. 72. 63. 62. 61. 71. 63.\n",
            " 63. 67. 81. 64. 67. 78. 63.]\n",
            "[40. 13. 40. ... 40. 50. 40.]\n",
            "61\n",
            "25.40983606557377\n"
          ]
        }
      ]
    }
  ],
  "metadata": {
    "colab": {
      "provenance": [],
      "collapsed_sections": [
        "q2miVGSJyj-s"
      ]
    },
    "kernelspec": {
      "display_name": "Python 3",
      "name": "python3"
    },
    "language_info": {
      "name": "python"
    }
  },
  "nbformat": 4,
  "nbformat_minor": 0
}